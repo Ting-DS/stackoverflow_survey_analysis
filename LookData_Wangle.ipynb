{
 "cells": [
  {
   "cell_type": "code",
   "execution_count": 82,
   "id": "99ecaa07",
   "metadata": {},
   "outputs": [],
   "source": [
    "import numpy as np\n",
    "import pandas as pd\n",
    "import matplotlib.pyplot as plt\n",
    "import seaborn as sns\n",
    "import missingno as msno\n",
    "%matplotlib inline\n",
    "import warnings\n",
    "warnings.filterwarnings(\"ignore\")"
   ]
  },
  {
   "cell_type": "markdown",
   "id": "815571c9",
   "metadata": {},
   "source": [
    "### Read data from 2021 to 2023"
   ]
  },
  {
   "cell_type": "code",
   "execution_count": 83,
   "id": "345d889a",
   "metadata": {},
   "outputs": [],
   "source": [
    "df_2021 = pd.read_csv('/Users/tinglu/Desktop/stack-overflow-survey/stack-overflow-developer-survey-2021/survey_results_public.csv')\n",
    "df_2022 = pd.read_csv('/Users/tinglu/Desktop/stack-overflow-survey/stack-overflow-developer-survey-2022/survey_results_public.csv')\n",
    "df_2023 = pd.read_csv('/Users/tinglu/Desktop/stack-overflow-survey/stack-overflow-developer-survey-2023/survey_results_public.csv')"
   ]
  },
  {
   "cell_type": "markdown",
   "id": "226cee84",
   "metadata": {},
   "source": [
    "### Merge data"
   ]
  },
  {
   "cell_type": "code",
   "execution_count": 84,
   "id": "df63ef3f",
   "metadata": {},
   "outputs": [
    {
     "name": "stdout",
     "output_type": "stream",
     "text": [
      "150294 12\n"
     ]
    }
   ],
   "source": [
    "def merge_and_extract_cols(df_2021, df_2022, df_2023):\n",
    "    cols_to_extract = ['MainBranch', 'Age', 'Employment', 'EdLevel', 'LearnCode','YearsCodePro',\n",
    "               'DevType', 'OrgSize', 'Country', 'Currency', 'CompTotal','CompFreq']\n",
    "    extracted_C = df_2021[cols_to_extract]\n",
    "    extracted_D = df_2022[cols_to_extract]\n",
    "    extracted_E = df_2023[cols_to_extract]\n",
    "    \n",
    "    merged_data = pd.concat([extracted_C, extracted_D, extracted_E], ignore_index=True)\n",
    "    merged_data = merged_data[merged_data['Employment'].isin(['Employed, full-time', 'Employed full-time'])]\n",
    "    return merged_data\n",
    "\n",
    "df_2023['CompFreq'] = 'Yearly'\n",
    "merged_data = merge_and_extract_cols(df_2021, df_2022, df_2023)\n",
    "print(merged_data.shape[0], merged_data.shape[1])"
   ]
  },
  {
   "cell_type": "markdown",
   "id": "9e5b2c88",
   "metadata": {},
   "source": [
    "### Extract job type related data science"
   ]
  },
  {
   "cell_type": "code",
   "execution_count": 85,
   "id": "efe334fe",
   "metadata": {},
   "outputs": [
    {
     "data": {
      "text/plain": [
       "DE/DA/BA    8940\n",
       "DS/MLE      6716\n",
       "Name: DevType, dtype: int64"
      ]
     },
     "execution_count": 85,
     "metadata": {},
     "output_type": "execute_result"
    }
   ],
   "source": [
    "merged_data['DevType'] = merged_data['DevType'].apply(lambda x: 'DS/MLE' \n",
    "                                                      if 'Data scientist or machine learning specialist' in str(x) \n",
    "                                                      else ('DE/DA/BA' if 'Data or business analyst' in str(x)\n",
    "                                                      else ('DE/DA/BA' if 'Engineer, data' in str(x) else x)))\n",
    "\n",
    "data_df = merged_data[merged_data['DevType'].isin(['DS/MLE', 'DE/DA/BA'])]\n",
    "data_df['DevType'].value_counts()"
   ]
  },
  {
   "cell_type": "markdown",
   "id": "2fa8edc3",
   "metadata": {},
   "source": [
    "### Extract education level"
   ]
  },
  {
   "cell_type": "code",
   "execution_count": 86,
   "id": "41bc7c6b",
   "metadata": {},
   "outputs": [
    {
     "data": {
      "text/plain": [
       "Bachelor         5970\n",
       "Master           5832\n",
       "Doctoral(PhD)    1299\n",
       "Name: EdLevel, dtype: int64"
      ]
     },
     "execution_count": 86,
     "metadata": {},
     "output_type": "execute_result"
    }
   ],
   "source": [
    "EdLevel_dict = {\n",
    "    'Bachelor’s degree (B.A., B.S., B.Eng., etc.)': 'Bachelor',\n",
    "    'Master’s degree (M.A., M.S., M.Eng., MBA, etc.)': 'Master',\n",
    "    'Other doctoral degree (Ph.D., Ed.D., etc.)': 'Doctoral(PhD)',\n",
    "    'Professional degree (JD, MD, Ph.D, Ed.D., etc.)': 'Doctoral(PhD)'\n",
    "}\n",
    "\n",
    "data_df.loc[:, 'EdLevel'] = data_df['EdLevel'].replace(EdLevel_dict)\n",
    "\n",
    "data_df = data_df[data_df['EdLevel'].isin(['Bachelor', 'Master', 'Doctoral(PhD)'])]\n",
    "data_df['EdLevel'].value_counts()"
   ]
  },
  {
   "cell_type": "markdown",
   "id": "f162c8fc",
   "metadata": {},
   "source": [
    "### Normalize salary unit and range"
   ]
  },
  {
   "cell_type": "code",
   "execution_count": 87,
   "id": "1378785a",
   "metadata": {},
   "outputs": [
    {
     "data": {
      "image/png": "[encoded data removed]",
      "text/plain": [
       "<Figure size 432x288 with 1 Axes>"
      ]
     },
     "metadata": {
      "needs_background": "light"
     },
     "output_type": "display_data"
    }
   ],
   "source": [
    "exchange_rates = {\n",
    "    'USD': 1,\n",
    "    'EUR': 1.18,\n",
    "    'GBP': 1.38,\n",
    "    'INR': 0.014,\n",
    "    'CAD': 0.79,\n",
    "    'AUD': 0.74\n",
    "}\n",
    "\n",
    "def convert_to_yearly(salary, unit):\n",
    "    if unit == 'Yearly':\n",
    "        return salary\n",
    "    elif unit == 'Weekly':\n",
    "        return salary * 52  \n",
    "    elif unit == 'Hourly':\n",
    "        return salary * 2080  \n",
    "    else:\n",
    "        return salary\n",
    "\n",
    "data_df = data_df[data_df['Currency'].isin(['USD\\tUnited States dollar', \n",
    "                                            'EUR European Euro', \n",
    "                                            'GBP\\tPound sterling',\n",
    "                                           'INR\\tIndian rupee',\n",
    "                                           'CAD\\tCanadian dollar',\n",
    "                                           'AUD\\tAustralian dollar'])]\n",
    "\n",
    "data_df['Currency_in_USD'] = data_df['Currency'].apply(lambda currency: exchange_rates[currency.split()[0]])\n",
    "data_df['Salary_USD'] = data_df['CompTotal'] * data_df['Currency_in_USD']\n",
    "data_df['Salary_USD'] = data_df.apply(lambda row: convert_to_yearly(row['Salary_USD'], row['CompFreq']), axis=1)\n",
    "# Salary range\n",
    "data_df = data_df[(data_df['Salary_USD'] <= 500000) & (data_df['Salary_USD'] > 0)]\n",
    "                  \n",
    "sns.histplot(data=data_df, x='Salary_USD')\n",
    "plt.xlabel('Salary in USD')\n",
    "plt.ylabel('Frequency')\n",
    "plt.title('Histogram of Salary Distribution')\n",
    "plt.show()"
   ]
  },
  {
   "cell_type": "markdown",
   "id": "f1da1788",
   "metadata": {},
   "source": [
    "### Transform company size categories"
   ]
  },
  {
   "cell_type": "code",
   "execution_count": 88,
   "id": "44162258",
   "metadata": {},
   "outputs": [
    {
     "data": {
      "text/plain": [
       "Large(>1000)       2963\n",
       "Small(1-99)        2416\n",
       "Medium(100-999)    1907\n",
       "Name: CompanySize, dtype: int64"
      ]
     },
     "execution_count": 88,
     "metadata": {},
     "output_type": "execute_result"
    }
   ],
   "source": [
    "company_size_mapping = {\n",
    "    '10,000 or more employees': 'Large(>1000)',\n",
    "    '1,000 to 4,999 employees': 'Large(>1000)',\n",
    "    '5,000 to 9,999 employees': 'Large(>1000)',\n",
    "    '100 to 499 employees': 'Medium(100-999)',\n",
    "    '500 to 999 employees': 'Medium(100-999)',\n",
    "    '20 to 99 employees': 'Small(1-99)',\n",
    "    '10 to 19 employees': 'Small(1-99)',\n",
    "    '2 to 9 employees': 'Small(1-99)',\n",
    "    'Just me - I am a freelancer, sole proprietor, etc.': 'Small(1-99)',\n",
    "    'I don’t know': 'Small(1-99)'\n",
    "}\n",
    "\n",
    "data_df['CompanySize'] = data_df['OrgSize'].map(company_size_mapping)\n",
    "data_df['CompanySize'].value_counts()"
   ]
  },
  {
   "cell_type": "markdown",
   "id": "7056e255",
   "metadata": {},
   "source": [
    "### Transform age categories"
   ]
  },
  {
   "cell_type": "code",
   "execution_count": 89,
   "id": "d9fc680f",
   "metadata": {},
   "outputs": [
    {
     "data": {
      "text/plain": [
       "18-35 years old    4572\n",
       ">35 years old      2687\n",
       "Name: Age, dtype: int64"
      ]
     },
     "execution_count": 89,
     "metadata": {},
     "output_type": "execute_result"
    }
   ],
   "source": [
    "data_df = data_df[~data_df['Age'].isin(['Prefer not to say'])]\n",
    "Age_mapping = {\n",
    "    '18-24 years old': '18-35 years old',\n",
    "    '25-34 years old': '18-35 years old',\n",
    "    '35-44 years old': '>35 years old',\n",
    "    '45-54 years old': '>35 years old',\n",
    "    '55-64 years old': '>35 years old',\n",
    "    '65 years or older': '>35 years old'\n",
    "}\n",
    "\n",
    "data_df['Age'] = data_df['Age'].map(Age_mapping)\n",
    "data_df['Age'].value_counts()"
   ]
  },
  {
   "cell_type": "code",
   "execution_count": 90,
   "id": "17547c0a",
   "metadata": {},
   "outputs": [],
   "source": [
    "data_df = data_df[['Age', 'EdLevel', 'YearsCodePro','DevType', 'CompanySize', 'Salary_USD']]"
   ]
  },
  {
   "cell_type": "markdown",
   "id": "da370988",
   "metadata": {},
   "source": [
    "### Handle Missing value"
   ]
  },
  {
   "cell_type": "code",
   "execution_count": 91,
   "id": "0562361c",
   "metadata": {},
   "outputs": [
    {
     "data": {
      "text/plain": [
       "Age             0.178768\n",
       "EdLevel         0.000000\n",
       "YearsCodePro    0.577558\n",
       "DevType         0.000000\n",
       "CompanySize     0.013751\n",
       "Salary_USD      0.000000\n",
       "dtype: float64"
      ]
     },
     "execution_count": 91,
     "metadata": {},
     "output_type": "execute_result"
    }
   ],
   "source": [
    "missing_percentage = (data_df.isna().sum() / len(data_df)) * 100\n",
    "missing_percentage"
   ]
  },
  {
   "cell_type": "code",
   "execution_count": 92,
   "id": "a5a76589",
   "metadata": {},
   "outputs": [
    {
     "data": {
      "text/plain": [
       "<AxesSubplot:>"
      ]
     },
     "execution_count": 92,
     "metadata": {},
     "output_type": "execute_result"
    },
    {
     "data": {
      "image/png": "[encoded data removed]",
      "text/plain": [
       "<Figure size 1800x720 with 2 Axes>"
      ]
     },
     "metadata": {
      "needs_background": "light"
     },
     "output_type": "display_data"
    }
   ],
   "source": [
    "msno.matrix(data_df)"
   ]
  },
  {
   "cell_type": "code",
   "execution_count": 93,
   "id": "213458db",
   "metadata": {},
   "outputs": [
    {
     "data": {
      "text/plain": [
       "7218"
      ]
     },
     "execution_count": 93,
     "metadata": {},
     "output_type": "execute_result"
    }
   ],
   "source": [
    "data_df = data_df.dropna()\n",
    "data_df.shape[0]"
   ]
  },
  {
   "cell_type": "markdown",
   "id": "08b21cc6",
   "metadata": {},
   "source": [
    "### Save cleaned dataset for future analysis"
   ]
  },
  {
   "cell_type": "code",
   "execution_count": 94,
   "id": "8876bbd9",
   "metadata": {},
   "outputs": [],
   "source": [
    "data_df.to_csv('/Users/tinglu/Desktop/stack-overflow-survey/Final_data.csv', index=False)"
   ]
  }
 ],
 "metadata": {
  "kernelspec": {
   "display_name": "Python 3 (ipykernel)",
   "language": "python",
   "name": "python3"
  },
  "language_info": {
   "codemirror_mode": {
    "name": "ipython",
    "version": 3
   },
   "file_extension": ".py",
   "mimetype": "text/x-python",
   "name": "python",
   "nbconvert_exporter": "python",
   "pygments_lexer": "ipython3",
   "version": "3.9.7"
  }
 },
 "nbformat": 4,
 "nbformat_minor": 5
}
