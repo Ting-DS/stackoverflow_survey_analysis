{
 "cells": [
  {
   "cell_type": "markdown",
   "id": "3f134181",
   "metadata": {},
   "source": [
    "# Analysis for the proportion of Education Level of different Job Types by Age groups"
   ]
  },
  {
   "cell_type": "code",
   "execution_count": 4,
   "id": "a110fa7f",
   "metadata": {},
   "outputs": [],
   "source": [
    "import numpy as np\n",
    "import pandas as pd\n",
    "import matplotlib.pyplot as plt\n",
    "import seaborn as sns\n",
    "import warnings\n",
    "warnings.filterwarnings(\"ignore\")\n",
    "%matplotlib inline"
   ]
  },
  {
   "cell_type": "code",
   "execution_count": 5,
   "id": "47a9f59c",
   "metadata": {},
   "outputs": [
    {
     "data": {
      "text/html": [
       "<div>\n",
       "<style scoped>\n",
       "    .dataframe tbody tr th:only-of-type {\n",
       "        vertical-align: middle;\n",
       "    }\n",
       "\n",
       "    .dataframe tbody tr th {\n",
       "        vertical-align: top;\n",
       "    }\n",
       "\n",
       "    .dataframe thead th {\n",
       "        text-align: right;\n",
       "    }\n",
       "</style>\n",
       "<table border=\"1\" class=\"dataframe\">\n",
       "  <thead>\n",
       "    <tr style=\"text-align: right;\">\n",
       "      <th></th>\n",
       "      <th>Age</th>\n",
       "      <th>EdLevel</th>\n",
       "      <th>YearsCodePro</th>\n",
       "      <th>DevType</th>\n",
       "      <th>CompanySize</th>\n",
       "      <th>Salary_USD</th>\n",
       "    </tr>\n",
       "  </thead>\n",
       "  <tbody>\n",
       "    <tr>\n",
       "      <th>0</th>\n",
       "      <td>18-35 years old</td>\n",
       "      <td>Master</td>\n",
       "      <td>2</td>\n",
       "      <td>DS/MLE</td>\n",
       "      <td>Small(1-99)</td>\n",
       "      <td>42480.0</td>\n",
       "    </tr>\n",
       "    <tr>\n",
       "      <th>1</th>\n",
       "      <td>18-35 years old</td>\n",
       "      <td>Bachelor</td>\n",
       "      <td>5</td>\n",
       "      <td>DS/MLE</td>\n",
       "      <td>Large(&gt;1000)</td>\n",
       "      <td>130000.0</td>\n",
       "    </tr>\n",
       "    <tr>\n",
       "      <th>2</th>\n",
       "      <td>18-35 years old</td>\n",
       "      <td>Master</td>\n",
       "      <td>2</td>\n",
       "      <td>DE/DA/BA</td>\n",
       "      <td>Large(&gt;1000)</td>\n",
       "      <td>28320.0</td>\n",
       "    </tr>\n",
       "    <tr>\n",
       "      <th>3</th>\n",
       "      <td>&gt;35 years old</td>\n",
       "      <td>Doctoral(PhD)</td>\n",
       "      <td>8</td>\n",
       "      <td>DS/MLE</td>\n",
       "      <td>Medium(100-999)</td>\n",
       "      <td>158000.0</td>\n",
       "    </tr>\n",
       "    <tr>\n",
       "      <th>4</th>\n",
       "      <td>18-35 years old</td>\n",
       "      <td>Doctoral(PhD)</td>\n",
       "      <td>1</td>\n",
       "      <td>DS/MLE</td>\n",
       "      <td>Small(1-99)</td>\n",
       "      <td>100000.0</td>\n",
       "    </tr>\n",
       "  </tbody>\n",
       "</table>\n",
       "</div>"
      ],
      "text/plain": [
       "               Age        EdLevel YearsCodePro   DevType      CompanySize  \\\n",
       "0  18-35 years old         Master            2    DS/MLE      Small(1-99)   \n",
       "1  18-35 years old       Bachelor            5    DS/MLE     Large(>1000)   \n",
       "2  18-35 years old         Master            2  DE/DA/BA     Large(>1000)   \n",
       "3    >35 years old  Doctoral(PhD)            8    DS/MLE  Medium(100-999)   \n",
       "4  18-35 years old  Doctoral(PhD)            1    DS/MLE      Small(1-99)   \n",
       "\n",
       "   Salary_USD  \n",
       "0     42480.0  \n",
       "1    130000.0  \n",
       "2     28320.0  \n",
       "3    158000.0  \n",
       "4    100000.0  "
      ]
     },
     "execution_count": 5,
     "metadata": {},
     "output_type": "execute_result"
    }
   ],
   "source": [
    "data_df = pd.read_csv('/Users/tinglu/Desktop/stack-overflow-survey/final_data.csv')\n",
    "data_df.head()"
   ]
  },
  {
   "cell_type": "code",
   "execution_count": 6,
   "id": "2bdeaf17",
   "metadata": {},
   "outputs": [
    {
     "data": {
      "text/plain": [
       "Master           3260\n",
       "Bachelor         3187\n",
       "Doctoral(PhD)     771\n",
       "Name: EdLevel, dtype: int64"
      ]
     },
     "execution_count": 6,
     "metadata": {},
     "output_type": "execute_result"
    }
   ],
   "source": [
    "data_df['EdLevel'].value_counts()"
   ]
  },
  {
   "cell_type": "code",
   "execution_count": 7,
   "id": "46c2654d",
   "metadata": {},
   "outputs": [
    {
     "data": {
      "text/plain": [
       "DE/DA/BA    3908\n",
       "DS/MLE      3310\n",
       "Name: DevType, dtype: int64"
      ]
     },
     "execution_count": 7,
     "metadata": {},
     "output_type": "execute_result"
    }
   ],
   "source": [
    "data_df['DevType'].value_counts()"
   ]
  },
  {
   "cell_type": "markdown",
   "id": "0d01fc61",
   "metadata": {},
   "source": [
    "### Show proportions by subgroups using a stacked bar chart"
   ]
  },
  {
   "cell_type": "code",
   "execution_count": 9,
   "id": "4e0f7a97",
   "metadata": {},
   "outputs": [
    {
     "data": {
      "image/png": "[encoded data removed]",
      "text/plain": [
       "<Figure size 1080x432 with 2 Axes>"
      ]
     },
     "metadata": {
      "needs_background": "light"
     },
     "output_type": "display_data"
    }
   ],
   "source": [
    "cross_tab = pd.crosstab(index=[data_df['DevType'], data_df['Age']], columns=data_df['EdLevel'], normalize='index').round(2)\n",
    "unique_age_groups = data_df['Age'].unique()\n",
    "\n",
    "# Increase font size\n",
    "plt.rcParams['font.size'] = 18\n",
    "\n",
    "# Define custom colors\n",
    "color_palette = {'Master': '#1f77b4', 'Bachelor': '#2ca02c', 'Doctoral(PhD)': '#ff7f0e'}\n",
    "\n",
    "# Create a custom color palette using the defined colors\n",
    "custom_palette = [color_palette[edlevel] for edlevel in cross_tab.columns]\n",
    "\n",
    "# Set the custom color palette\n",
    "sns.set_palette(custom_palette)\n",
    "\n",
    "# Plot each age group in separate subplots\n",
    "fig, axes = plt.subplots(1, 2, figsize=(15, 6))\n",
    "\n",
    "for i, age_group in enumerate(unique_age_groups):\n",
    "    age_group_cross_tab = cross_tab.xs(age_group, level=1)\n",
    "    age_group_cross_tab.plot(kind='bar', stacked=True, ax=axes[i])\n",
    "    \n",
    "    axes[i].set_xlabel('Job Type')\n",
    "    axes[i].set_ylabel('Percentage')\n",
    "    axes[i].set_title(f'EdLevel Distribution for Age Group: {age_group}', fontsize=20)\n",
    "    axes[i].legend(title='EdLevel', fontsize=10)\n",
    "    axes[i].tick_params(axis='x', rotation=0)\n",
    "    axes[i].tick_params(axis='both', labelsize=10)\n",
    "\n",
    "plt.tight_layout()\n",
    "plt.show()\n"
   ]
  },
  {
   "cell_type": "markdown",
   "id": "15455745",
   "metadata": {},
   "source": [
    "Within the roles of Data Engineer (DE), Data Analyst (DA), and Business Analyst (BA), the majority holds bachelor’s degrees. Conversely, in Data Scientist (DS) and Machine Learning Engineer (MLE) roles, master’s degrees are predominant.\n",
    "\n",
    "Notably, in DS and MLE positions, the prevalence of Ph.D. holders significantly surpasses that in DA, DE, and BA roles. This alignment corroborates common intuition, as doctorate-level education notably enhances individuals’ grasp of statistical and algorithmic theories.\n",
    "\n",
    "In comparison to the age bracket below 35, the proportion of Ph.D. holders across all job categories escalates within the over-35 age group. Particularly striking is the surge in Ph.D. holders in DS and MLE positions within the over-35 category."
   ]
  }
 ],
 "metadata": {
  "kernelspec": {
   "display_name": "Python 3 (ipykernel)",
   "language": "python",
   "name": "python3"
  },
  "language_info": {
   "codemirror_mode": {
    "name": "ipython",
    "version": 3
   },
   "file_extension": ".py",
   "mimetype": "text/x-python",
   "name": "python",
   "nbconvert_exporter": "python",
   "pygments_lexer": "ipython3",
   "version": "3.9.7"
  }
 },
 "nbformat": 4,
 "nbformat_minor": 5
}
