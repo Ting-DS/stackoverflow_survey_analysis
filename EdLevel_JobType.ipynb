{
 "cells": [
  {
   "cell_type": "code",
   "execution_count": 5,
   "id": "a110fa7f",
   "metadata": {},
   "outputs": [],
   "source": [
    "import numpy as np\n",
    "import pandas as pd\n",
    "import matplotlib.pyplot as plt\n",
    "import seaborn as sns\n",
    "import warnings\n",
    "warnings.filterwarnings(\"ignore\")\n",
    "%matplotlib inline"
   ]
  },
  {
   "cell_type": "code",
   "execution_count": 6,
   "id": "47a9f59c",
   "metadata": {},
   "outputs": [
    {
     "data": {
      "text/html": [
       "<div>\n",
       "<style scoped>\n",
       "    .dataframe tbody tr th:only-of-type {\n",
       "        vertical-align: middle;\n",
       "    }\n",
       "\n",
       "    .dataframe tbody tr th {\n",
       "        vertical-align: top;\n",
       "    }\n",
       "\n",
       "    .dataframe thead th {\n",
       "        text-align: right;\n",
       "    }\n",
       "</style>\n",
       "<table border=\"1\" class=\"dataframe\">\n",
       "  <thead>\n",
       "    <tr style=\"text-align: right;\">\n",
       "      <th></th>\n",
       "      <th>Age</th>\n",
       "      <th>EdLevel</th>\n",
       "      <th>YearsCodePro</th>\n",
       "      <th>DevType</th>\n",
       "      <th>CompanySize</th>\n",
       "      <th>Salary_USD</th>\n",
       "    </tr>\n",
       "  </thead>\n",
       "  <tbody>\n",
       "    <tr>\n",
       "      <th>0</th>\n",
       "      <td>18-35 years old</td>\n",
       "      <td>Master</td>\n",
       "      <td>2</td>\n",
       "      <td>DS/MLE</td>\n",
       "      <td>Small(1-99)</td>\n",
       "      <td>42480.0</td>\n",
       "    </tr>\n",
       "    <tr>\n",
       "      <th>1</th>\n",
       "      <td>18-35 years old</td>\n",
       "      <td>Bachelor</td>\n",
       "      <td>5</td>\n",
       "      <td>DS/MLE</td>\n",
       "      <td>Large(&gt;1000)</td>\n",
       "      <td>130000.0</td>\n",
       "    </tr>\n",
       "    <tr>\n",
       "      <th>2</th>\n",
       "      <td>18-35 years old</td>\n",
       "      <td>Master</td>\n",
       "      <td>2</td>\n",
       "      <td>DE/DA/BA</td>\n",
       "      <td>Large(&gt;1000)</td>\n",
       "      <td>28320.0</td>\n",
       "    </tr>\n",
       "    <tr>\n",
       "      <th>3</th>\n",
       "      <td>&gt;35 years old</td>\n",
       "      <td>Doctoral(PhD)</td>\n",
       "      <td>8</td>\n",
       "      <td>DS/MLE</td>\n",
       "      <td>Medium(100-999)</td>\n",
       "      <td>158000.0</td>\n",
       "    </tr>\n",
       "    <tr>\n",
       "      <th>4</th>\n",
       "      <td>18-35 years old</td>\n",
       "      <td>Doctoral(PhD)</td>\n",
       "      <td>1</td>\n",
       "      <td>DS/MLE</td>\n",
       "      <td>Small(1-99)</td>\n",
       "      <td>100000.0</td>\n",
       "    </tr>\n",
       "  </tbody>\n",
       "</table>\n",
       "</div>"
      ],
      "text/plain": [
       "               Age        EdLevel YearsCodePro   DevType      CompanySize  \\\n",
       "0  18-35 years old         Master            2    DS/MLE      Small(1-99)   \n",
       "1  18-35 years old       Bachelor            5    DS/MLE     Large(>1000)   \n",
       "2  18-35 years old         Master            2  DE/DA/BA     Large(>1000)   \n",
       "3    >35 years old  Doctoral(PhD)            8    DS/MLE  Medium(100-999)   \n",
       "4  18-35 years old  Doctoral(PhD)            1    DS/MLE      Small(1-99)   \n",
       "\n",
       "   Salary_USD  \n",
       "0     42480.0  \n",
       "1    130000.0  \n",
       "2     28320.0  \n",
       "3    158000.0  \n",
       "4    100000.0  "
      ]
     },
     "execution_count": 6,
     "metadata": {},
     "output_type": "execute_result"
    }
   ],
   "source": [
    "data_df = pd.read_csv('/Users/tinglu/Desktop/stack-overflow-survey/final_data.csv')\n",
    "data_df.head()"
   ]
  },
  {
   "cell_type": "code",
   "execution_count": 7,
   "id": "2bdeaf17",
   "metadata": {},
   "outputs": [
    {
     "data": {
      "text/plain": [
       "Master           3260\n",
       "Bachelor         3187\n",
       "Doctoral(PhD)     771\n",
       "Name: EdLevel, dtype: int64"
      ]
     },
     "execution_count": 7,
     "metadata": {},
     "output_type": "execute_result"
    }
   ],
   "source": [
    "data_df['EdLevel'].value_counts()"
   ]
  },
  {
   "cell_type": "code",
   "execution_count": 8,
   "id": "46c2654d",
   "metadata": {},
   "outputs": [
    {
     "data": {
      "text/plain": [
       "DE/DA/BA    3908\n",
       "DS/MLE      3310\n",
       "Name: DevType, dtype: int64"
      ]
     },
     "execution_count": 8,
     "metadata": {},
     "output_type": "execute_result"
    }
   ],
   "source": [
    "data_df['DevType'].value_counts()"
   ]
  },
  {
   "cell_type": "markdown",
   "id": "f603e727",
   "metadata": {},
   "source": [
    "### The proportion of Education Level of different Job Types by Age groups"
   ]
  },
  {
   "cell_type": "code",
   "execution_count": 9,
   "id": "145bdb3a",
   "metadata": {},
   "outputs": [
    {
     "data": {
      "text/html": [
       "<div>\n",
       "<style scoped>\n",
       "    .dataframe tbody tr th:only-of-type {\n",
       "        vertical-align: middle;\n",
       "    }\n",
       "\n",
       "    .dataframe tbody tr th {\n",
       "        vertical-align: top;\n",
       "    }\n",
       "\n",
       "    .dataframe thead th {\n",
       "        text-align: right;\n",
       "    }\n",
       "</style>\n",
       "<table border=\"1\" class=\"dataframe\">\n",
       "  <thead>\n",
       "    <tr style=\"text-align: right;\">\n",
       "      <th></th>\n",
       "      <th>EdLevel</th>\n",
       "      <th>Bachelor</th>\n",
       "      <th>Doctoral(PhD)</th>\n",
       "      <th>Master</th>\n",
       "    </tr>\n",
       "    <tr>\n",
       "      <th>DevType</th>\n",
       "      <th>Age</th>\n",
       "      <th></th>\n",
       "      <th></th>\n",
       "      <th></th>\n",
       "    </tr>\n",
       "  </thead>\n",
       "  <tbody>\n",
       "    <tr>\n",
       "      <th rowspan=\"2\" valign=\"top\">DE/DA/BA</th>\n",
       "      <th>18-35 years old</th>\n",
       "      <td>0.62</td>\n",
       "      <td>0.02</td>\n",
       "      <td>0.37</td>\n",
       "    </tr>\n",
       "    <tr>\n",
       "      <th>&gt;35 years old</th>\n",
       "      <td>0.49</td>\n",
       "      <td>0.07</td>\n",
       "      <td>0.43</td>\n",
       "    </tr>\n",
       "    <tr>\n",
       "      <th rowspan=\"2\" valign=\"top\">DS/MLE</th>\n",
       "      <th>18-35 years old</th>\n",
       "      <td>0.33</td>\n",
       "      <td>0.12</td>\n",
       "      <td>0.55</td>\n",
       "    </tr>\n",
       "    <tr>\n",
       "      <th>&gt;35 years old</th>\n",
       "      <td>0.23</td>\n",
       "      <td>0.32</td>\n",
       "      <td>0.46</td>\n",
       "    </tr>\n",
       "  </tbody>\n",
       "</table>\n",
       "</div>"
      ],
      "text/plain": [
       "EdLevel                   Bachelor  Doctoral(PhD)  Master\n",
       "DevType  Age                                             \n",
       "DE/DA/BA 18-35 years old      0.62           0.02    0.37\n",
       "         >35 years old        0.49           0.07    0.43\n",
       "DS/MLE   18-35 years old      0.33           0.12    0.55\n",
       "         >35 years old        0.23           0.32    0.46"
      ]
     },
     "execution_count": 9,
     "metadata": {},
     "output_type": "execute_result"
    }
   ],
   "source": [
    "cross_tab = pd.crosstab(index=[data_df['DevType'], data_df['Age']], columns=data_df['EdLevel'], normalize='index').round(2)\n",
    "cross_tab"
   ]
  },
  {
   "cell_type": "code",
   "execution_count": 12,
   "id": "9f6b9a6c",
   "metadata": {},
   "outputs": [
    {
     "data": {
      "image/png": "[encoded data removed]",
      "text/plain": [
       "<Figure size 1080x432 with 2 Axes>"
      ]
     },
     "metadata": {
      "needs_background": "light"
     },
     "output_type": "display_data"
    }
   ],
   "source": [
    "import pandas as pd\n",
    "import matplotlib.pyplot as plt\n",
    "\n",
    "# Generate the crosstab\n",
    "cross_tab = pd.crosstab(index=[data_df['DevType'], data_df['Age']], columns=data_df['EdLevel'], normalize='index').round(2)\n",
    "\n",
    "# Get unique age groups\n",
    "unique_age_groups = data_df['Age'].unique()\n",
    "\n",
    "# Plot each age group in separate subplots\n",
    "fig, axes = plt.subplots(1, 2, figsize=(15, 6))\n",
    "\n",
    "for i, age_group in enumerate(unique_age_groups):\n",
    "    age_group_cross_tab = cross_tab.xs(age_group, level=1)  # Get cross-tab for specific age group\n",
    "    age_group_cross_tab.plot(kind='bar', stacked=True, ax=axes[i])\n",
    "    \n",
    "    axes[i].set_xlabel('DevType')\n",
    "    axes[i].set_ylabel('Percentage')\n",
    "    axes[i].set_title(f'EdLevel Distribution for Age Group: {age_group}')\n",
    "    axes[i].legend(title='EdLevel')\n",
    "    axes[i].tick_params(axis='x', rotation=0)\n",
    "\n",
    "plt.tight_layout()\n",
    "plt.show()\n"
   ]
  }
 ],
 "metadata": {
  "kernelspec": {
   "display_name": "Python 3 (ipykernel)",
   "language": "python",
   "name": "python3"
  },
  "language_info": {
   "codemirror_mode": {
    "name": "ipython",
    "version": 3
   },
   "file_extension": ".py",
   "mimetype": "text/x-python",
   "name": "python",
   "nbconvert_exporter": "python",
   "pygments_lexer": "ipython3",
   "version": "3.9.7"
  }
 },
 "nbformat": 4,
 "nbformat_minor": 5
}
